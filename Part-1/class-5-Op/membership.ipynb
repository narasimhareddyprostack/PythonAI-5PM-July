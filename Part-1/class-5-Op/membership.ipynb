{
 "cells": [
  {
   "cell_type": "code",
   "execution_count": 1,
   "id": "185e119c-ae85-4f1c-915d-9bf17ab07a2e",
   "metadata": {},
   "outputs": [
    {
     "name": "stdout",
     "output_type": "stream",
     "text": [
      "True\n"
     ]
    }
   ],
   "source": [
    "#what is membership operators:  in , not in \n",
    "#to verify element/object present in sequence or not?\n",
    "#What is sequence?  \n",
    "#sequence might - list,tuple,set,bytes,bytearray,frozenset,range,string\n",
    "enames =['RG','SG','PG']\n",
    "print('RG' in enames)"
   ]
  },
  {
   "cell_type": "code",
   "execution_count": 3,
   "id": "9b8e2ec4-05ef-4b2c-be36-a31b9d064182",
   "metadata": {},
   "outputs": [
    {
     "name": "stdout",
     "output_type": "stream",
     "text": [
      "<class 'list'>\n",
      "<class 'tuple'>\n",
      "<class 'tuple'>\n"
     ]
    }
   ],
   "source": [
    "enames =['RG','SG','PG']\n",
    "unames='Rahul','sonia'\n",
    "st_names=('Rahul','sonia')\n",
    "print(type(enames))\n",
    "print(type(unames))\n",
    "print(type(st_names))"
   ]
  },
  {
   "cell_type": "code",
   "execution_count": 4,
   "id": "7bdfa623-320e-4645-b115-c07b19bf61b3",
   "metadata": {},
   "outputs": [
    {
     "name": "stdout",
     "output_type": "stream",
     "text": [
      "False\n"
     ]
    }
   ],
   "source": [
    "enames =['RG','SG','PG']\n",
    "st_names=('Rahul','sonia')\n",
    "eis={101,102,103,104}\n",
    "byte_values=bytes([0,25,35,45,55])\n",
    "ba_values=bytearray([0,25,35,45,55])\n",
    "fz_values=frozenset({0,25,34,333})\n",
    "range_values=range(500)\n",
    "ename=\"Rahul Gandhi\"\n",
    "print('z' in ename)"
   ]
  },
  {
   "cell_type": "code",
   "execution_count": 7,
   "id": "9f655a7d-4ed2-4e29-a870-8e012b71cdff",
   "metadata": {},
   "outputs": [
    {
     "name": "stdout",
     "output_type": "stream",
     "text": [
      "False\n",
      "True\n",
      "True\n"
     ]
    }
   ],
   "source": [
    "range_values=range(500)\n",
    "print(500 in range_values)\n",
    "print(499 in range_values)\n",
    "print(0 in range_values)"
   ]
  },
  {
   "cell_type": "code",
   "execution_count": null,
   "id": "97e31a55-9163-4e79-83d6-93bf3a7918e3",
   "metadata": {},
   "outputs": [],
   "source": []
  }
 ],
 "metadata": {
  "kernelspec": {
   "display_name": "Python 3 (ipykernel)",
   "language": "python",
   "name": "python3"
  },
  "language_info": {
   "codemirror_mode": {
    "name": "ipython",
    "version": 3
   },
   "file_extension": ".py",
   "mimetype": "text/x-python",
   "name": "python",
   "nbconvert_exporter": "python",
   "pygments_lexer": "ipython3",
   "version": "3.12.2"
  }
 },
 "nbformat": 4,
 "nbformat_minor": 5
}
