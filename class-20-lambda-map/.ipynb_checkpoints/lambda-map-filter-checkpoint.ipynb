{
 "cells": [
  {
   "cell_type": "code",
   "execution_count": 1,
   "id": "8abb93dd-2d26-4161-a427-3844cd676c13",
   "metadata": {},
   "outputs": [
    {
     "name": "stdout",
     "output_type": "stream",
     "text": [
      "<class 'int'>\n",
      "<class 'function'>\n"
     ]
    }
   ],
   "source": [
    "a  =100\n",
    "add=lambda a,b:a+b\n",
    "print(type(a))\n",
    "print(type(add))"
   ]
  },
  {
   "cell_type": "code",
   "execution_count": 2,
   "id": "46070e71-46f0-4548-b5da-b3e074fc9df6",
   "metadata": {},
   "outputs": [
    {
     "name": "stdout",
     "output_type": "stream",
     "text": [
      "30\n",
      "3\n",
      "RahulGandhi\n"
     ]
    },
    {
     "ename": "TypeError",
     "evalue": "can only concatenate str (not \"int\") to str",
     "output_type": "error",
     "traceback": [
      "\u001b[1;31m---------------------------------------------------------------------------\u001b[0m",
      "\u001b[1;31mTypeError\u001b[0m                                 Traceback (most recent call last)",
      "Cell \u001b[1;32mIn[2], line 8\u001b[0m\n\u001b[0;32m      6\u001b[0m r3\u001b[38;5;241m=\u001b[39madd(\u001b[38;5;124m\"\u001b[39m\u001b[38;5;124mRahul\u001b[39m\u001b[38;5;124m\"\u001b[39m,\u001b[38;5;124m\"\u001b[39m\u001b[38;5;124mGandhi\u001b[39m\u001b[38;5;124m\"\u001b[39m)\n\u001b[0;32m      7\u001b[0m \u001b[38;5;28mprint\u001b[39m(r3)      \u001b[38;5;66;03m#RahulGandhi\u001b[39;00m\n\u001b[1;32m----> 8\u001b[0m r4\u001b[38;5;241m=\u001b[39m\u001b[43madd\u001b[49m\u001b[43m(\u001b[49m\u001b[38;5;124;43m\"\u001b[39;49m\u001b[38;5;124;43mRahul\u001b[39;49m\u001b[38;5;124;43m\"\u001b[39;49m\u001b[43m,\u001b[49m\u001b[38;5;241;43m100\u001b[39;49m\u001b[43m)\u001b[49m\n\u001b[0;32m      9\u001b[0m \u001b[38;5;28mprint\u001b[39m(r4)       \u001b[38;5;66;03m#TypeError\u001b[39;00m\n",
      "Cell \u001b[1;32mIn[2], line 1\u001b[0m, in \u001b[0;36m<lambda>\u001b[1;34m(a, b)\u001b[0m\n\u001b[1;32m----> 1\u001b[0m add\u001b[38;5;241m=\u001b[39m\u001b[38;5;28;01mlambda\u001b[39;00m a,b:\u001b[43ma\u001b[49m\u001b[38;5;241;43m+\u001b[39;49m\u001b[43mb\u001b[49m\n\u001b[0;32m      2\u001b[0m r1\u001b[38;5;241m=\u001b[39madd(\u001b[38;5;241m10\u001b[39m,\u001b[38;5;241m20\u001b[39m)\n\u001b[0;32m      3\u001b[0m \u001b[38;5;28mprint\u001b[39m(r1)      \u001b[38;5;66;03m#30\u001b[39;00m\n",
      "\u001b[1;31mTypeError\u001b[0m: can only concatenate str (not \"int\") to str"
     ]
    }
   ],
   "source": [
    "add=lambda a,b:a+b\n",
    "r1=add(10,20)\n",
    "print(r1)      #30\n",
    "r2=add(1,2)\n",
    "print(r2)      #3\n",
    "r3=add(\"Rahul\",\"Gandhi\")\n",
    "print(r3)      #RahulGandhi\n",
    "r4=add(\"Rahul\",100)\n",
    "print(r4)       #TypeError"
   ]
  },
  {
   "cell_type": "code",
   "execution_count": 3,
   "id": "7cfdf1a7-a3fe-4ea9-853c-1bbd80c84e15",
   "metadata": {},
   "outputs": [
    {
     "name": "stdout",
     "output_type": "stream",
     "text": [
      "100\n",
      "16\n"
     ]
    }
   ],
   "source": [
    "#syntax - lambda argument_list:expresss\n",
    "\n",
    "sqrt=lambda num:num*num\n",
    "print(sqrt(10))\n",
    "print(sqrt(4))"
   ]
  },
  {
   "cell_type": "code",
   "execution_count": 5,
   "id": "339efa07-2567-479b-9663-4981980023d0",
   "metadata": {},
   "outputs": [
    {
     "name": "stdout",
     "output_type": "stream",
     "text": [
      "[98, 198, 298, 398]\n",
      "[99, 199, 299, 399]\n"
     ]
    }
   ],
   "source": [
    "prod_prices=[98,198,298,398]\n",
    "#create new product prices while adding 1\n",
    "new_prod_prices=[]\n",
    "for price in prod_prices:\n",
    "    new_prod_prices.append(price+1)\n",
    "print(prod_prices)\n",
    "print(new_prod_prices)"
   ]
  },
  {
   "cell_type": "code",
   "execution_count": null,
   "id": "6a602a47-f19f-4c0f-b86d-e6b5a923f710",
   "metadata": {},
   "outputs": [],
   "source": []
  }
 ],
 "metadata": {
  "kernelspec": {
   "display_name": "Python 3 (ipykernel)",
   "language": "python",
   "name": "python3"
  },
  "language_info": {
   "codemirror_mode": {
    "name": "ipython",
    "version": 3
   },
   "file_extension": ".py",
   "mimetype": "text/x-python",
   "name": "python",
   "nbconvert_exporter": "python",
   "pygments_lexer": "ipython3",
   "version": "3.12.2"
  }
 },
 "nbformat": 4,
 "nbformat_minor": 5
}
